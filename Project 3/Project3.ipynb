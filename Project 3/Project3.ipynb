{
  "cells": [
    {
      "cell_type": "code",
      "execution_count": 1,
      "id": "77835de4",
      "metadata": {
        "id": "77835de4"
      },
      "outputs": [],
      "source": [
        "import pandas as pd, numpy as np\n",
        "from matplotlib import pyplot as plt\n",
        "import seaborn as sns\n",
        "from sklearn.model_selection import train_test_split\n",
        "from sklearn.preprocessing import StandardScaler\n",
        "from scipy.spatial.distance import cdist"
      ]
    },
    {
      "cell_type": "markdown",
      "id": "7b1cd39f",
      "metadata": {
        "id": "7b1cd39f"
      },
      "source": [
        "## Load the data"
      ]
    },
    {
      "cell_type": "code",
      "execution_count": 2,
      "id": "116de778",
      "metadata": {
        "colab": {
          "base_uri": "https://localhost:8080/",
          "height": 354
        },
        "id": "116de778",
        "outputId": "83634ef6-60bb-480a-bea4-5849b6238776"
      },
      "outputs": [
        {
          "output_type": "stream",
          "name": "stdout",
          "text": [
            "Iris dataset loaded with [Iris-setosa, Iris-versicolor, Iris-virginica] classes. \n",
            "\n",
            "Features Summary below: \n"
          ]
        },
        {
          "output_type": "execute_result",
          "data": {
            "text/plain": [
              "       SepalLength  SepalWidth  PetalLength  PetalWidth\n",
              "count   150.000000  150.000000   150.000000  150.000000\n",
              "mean      5.843333    3.054000     3.758667    1.198667\n",
              "std       0.828066    0.433594     1.764420    0.763161\n",
              "min       4.300000    2.000000     1.000000    0.100000\n",
              "25%       5.100000    2.800000     1.600000    0.300000\n",
              "50%       5.800000    3.000000     4.350000    1.300000\n",
              "75%       6.400000    3.300000     5.100000    1.800000\n",
              "max       7.900000    4.400000     6.900000    2.500000"
            ],
            "text/html": [
              "\n",
              "  <div id=\"df-7bc382d6-7a05-4bdc-9f0e-b4ace44e2fe2\">\n",
              "    <div class=\"colab-df-container\">\n",
              "      <div>\n",
              "<style scoped>\n",
              "    .dataframe tbody tr th:only-of-type {\n",
              "        vertical-align: middle;\n",
              "    }\n",
              "\n",
              "    .dataframe tbody tr th {\n",
              "        vertical-align: top;\n",
              "    }\n",
              "\n",
              "    .dataframe thead th {\n",
              "        text-align: right;\n",
              "    }\n",
              "</style>\n",
              "<table border=\"1\" class=\"dataframe\">\n",
              "  <thead>\n",
              "    <tr style=\"text-align: right;\">\n",
              "      <th></th>\n",
              "      <th>SepalLength</th>\n",
              "      <th>SepalWidth</th>\n",
              "      <th>PetalLength</th>\n",
              "      <th>PetalWidth</th>\n",
              "    </tr>\n",
              "  </thead>\n",
              "  <tbody>\n",
              "    <tr>\n",
              "      <th>count</th>\n",
              "      <td>150.000000</td>\n",
              "      <td>150.000000</td>\n",
              "      <td>150.000000</td>\n",
              "      <td>150.000000</td>\n",
              "    </tr>\n",
              "    <tr>\n",
              "      <th>mean</th>\n",
              "      <td>5.843333</td>\n",
              "      <td>3.054000</td>\n",
              "      <td>3.758667</td>\n",
              "      <td>1.198667</td>\n",
              "    </tr>\n",
              "    <tr>\n",
              "      <th>std</th>\n",
              "      <td>0.828066</td>\n",
              "      <td>0.433594</td>\n",
              "      <td>1.764420</td>\n",
              "      <td>0.763161</td>\n",
              "    </tr>\n",
              "    <tr>\n",
              "      <th>min</th>\n",
              "      <td>4.300000</td>\n",
              "      <td>2.000000</td>\n",
              "      <td>1.000000</td>\n",
              "      <td>0.100000</td>\n",
              "    </tr>\n",
              "    <tr>\n",
              "      <th>25%</th>\n",
              "      <td>5.100000</td>\n",
              "      <td>2.800000</td>\n",
              "      <td>1.600000</td>\n",
              "      <td>0.300000</td>\n",
              "    </tr>\n",
              "    <tr>\n",
              "      <th>50%</th>\n",
              "      <td>5.800000</td>\n",
              "      <td>3.000000</td>\n",
              "      <td>4.350000</td>\n",
              "      <td>1.300000</td>\n",
              "    </tr>\n",
              "    <tr>\n",
              "      <th>75%</th>\n",
              "      <td>6.400000</td>\n",
              "      <td>3.300000</td>\n",
              "      <td>5.100000</td>\n",
              "      <td>1.800000</td>\n",
              "    </tr>\n",
              "    <tr>\n",
              "      <th>max</th>\n",
              "      <td>7.900000</td>\n",
              "      <td>4.400000</td>\n",
              "      <td>6.900000</td>\n",
              "      <td>2.500000</td>\n",
              "    </tr>\n",
              "  </tbody>\n",
              "</table>\n",
              "</div>\n",
              "      <button class=\"colab-df-convert\" onclick=\"convertToInteractive('df-7bc382d6-7a05-4bdc-9f0e-b4ace44e2fe2')\"\n",
              "              title=\"Convert this dataframe to an interactive table.\"\n",
              "              style=\"display:none;\">\n",
              "        \n",
              "  <svg xmlns=\"http://www.w3.org/2000/svg\" height=\"24px\"viewBox=\"0 0 24 24\"\n",
              "       width=\"24px\">\n",
              "    <path d=\"M0 0h24v24H0V0z\" fill=\"none\"/>\n",
              "    <path d=\"M18.56 5.44l.94 2.06.94-2.06 2.06-.94-2.06-.94-.94-2.06-.94 2.06-2.06.94zm-11 1L8.5 8.5l.94-2.06 2.06-.94-2.06-.94L8.5 2.5l-.94 2.06-2.06.94zm10 10l.94 2.06.94-2.06 2.06-.94-2.06-.94-.94-2.06-.94 2.06-2.06.94z\"/><path d=\"M17.41 7.96l-1.37-1.37c-.4-.4-.92-.59-1.43-.59-.52 0-1.04.2-1.43.59L10.3 9.45l-7.72 7.72c-.78.78-.78 2.05 0 2.83L4 21.41c.39.39.9.59 1.41.59.51 0 1.02-.2 1.41-.59l7.78-7.78 2.81-2.81c.8-.78.8-2.07 0-2.86zM5.41 20L4 18.59l7.72-7.72 1.47 1.35L5.41 20z\"/>\n",
              "  </svg>\n",
              "      </button>\n",
              "      \n",
              "  <style>\n",
              "    .colab-df-container {\n",
              "      display:flex;\n",
              "      flex-wrap:wrap;\n",
              "      gap: 12px;\n",
              "    }\n",
              "\n",
              "    .colab-df-convert {\n",
              "      background-color: #E8F0FE;\n",
              "      border: none;\n",
              "      border-radius: 50%;\n",
              "      cursor: pointer;\n",
              "      display: none;\n",
              "      fill: #1967D2;\n",
              "      height: 32px;\n",
              "      padding: 0 0 0 0;\n",
              "      width: 32px;\n",
              "    }\n",
              "\n",
              "    .colab-df-convert:hover {\n",
              "      background-color: #E2EBFA;\n",
              "      box-shadow: 0px 1px 2px rgba(60, 64, 67, 0.3), 0px 1px 3px 1px rgba(60, 64, 67, 0.15);\n",
              "      fill: #174EA6;\n",
              "    }\n",
              "\n",
              "    [theme=dark] .colab-df-convert {\n",
              "      background-color: #3B4455;\n",
              "      fill: #D2E3FC;\n",
              "    }\n",
              "\n",
              "    [theme=dark] .colab-df-convert:hover {\n",
              "      background-color: #434B5C;\n",
              "      box-shadow: 0px 1px 3px 1px rgba(0, 0, 0, 0.15);\n",
              "      filter: drop-shadow(0px 1px 2px rgba(0, 0, 0, 0.3));\n",
              "      fill: #FFFFFF;\n",
              "    }\n",
              "  </style>\n",
              "\n",
              "      <script>\n",
              "        const buttonEl =\n",
              "          document.querySelector('#df-7bc382d6-7a05-4bdc-9f0e-b4ace44e2fe2 button.colab-df-convert');\n",
              "        buttonEl.style.display =\n",
              "          google.colab.kernel.accessAllowed ? 'block' : 'none';\n",
              "\n",
              "        async function convertToInteractive(key) {\n",
              "          const element = document.querySelector('#df-7bc382d6-7a05-4bdc-9f0e-b4ace44e2fe2');\n",
              "          const dataTable =\n",
              "            await google.colab.kernel.invokeFunction('convertToInteractive',\n",
              "                                                     [key], {});\n",
              "          if (!dataTable) return;\n",
              "\n",
              "          const docLinkHtml = 'Like what you see? Visit the ' +\n",
              "            '<a target=\"_blank\" href=https://colab.research.google.com/notebooks/data_table.ipynb>data table notebook</a>'\n",
              "            + ' to learn more about interactive tables.';\n",
              "          element.innerHTML = '';\n",
              "          dataTable['output_type'] = 'display_data';\n",
              "          await google.colab.output.renderOutput(dataTable, element);\n",
              "          const docLink = document.createElement('div');\n",
              "          docLink.innerHTML = docLinkHtml;\n",
              "          element.appendChild(docLink);\n",
              "        }\n",
              "      </script>\n",
              "    </div>\n",
              "  </div>\n",
              "  "
            ]
          },
          "metadata": {},
          "execution_count": 2
        }
      ],
      "source": [
        "# Load the dataset and summarize\n",
        "dataset_url = r\"http://archive.ics.uci.edu/ml/machine-learning-databases/iris/iris.data\"\n",
        "col_names = ['SepalLength', 'SepalWidth', 'PetalLength', 'PetalWidth', 'Class']\n",
        "iris_df =  pd.read_csv(dataset_url, names = col_names)\n",
        "print(f\"Iris dataset loaded with [{', '.join(iris_df.Class.unique())}] classes. \\n\\nFeatures Summary below: \")\n",
        "iris_df.describe()"
      ]
    },
    {
      "cell_type": "code",
      "execution_count": 3,
      "id": "681949a7",
      "metadata": {
        "colab": {
          "base_uri": "https://localhost:8080/",
          "height": 315
        },
        "id": "681949a7",
        "outputId": "54ef105b-2cee-47be-836d-9d2d3011b162"
      },
      "outputs": [
        {
          "output_type": "execute_result",
          "data": {
            "text/plain": [
              "<seaborn.axisgrid.FacetGrid at 0x7f902a2fd7d0>"
            ]
          },
          "metadata": {},
          "execution_count": 3
        },
        {
          "output_type": "display_data",
          "data": {
            "text/plain": [
              "<Figure size 391.25x288 with 1 Axes>"
            ],
            "image/png": "[encoded data removed]"
          },
          "metadata": {
            "needs_background": "light"
          }
        }
      ],
      "source": [
        "# Scatter Plot of the features SepalLength and PetalLength\n",
        "grid = sns.FacetGrid(iris_df, hue =\"Class\", height = 4)\n",
        "grid.map(plt.scatter, 'PetalLength', 'SepalLength').add_legend()"
      ]
    },
    {
      "cell_type": "code",
      "execution_count": 4,
      "id": "93ce48b1",
      "metadata": {
        "id": "93ce48b1"
      },
      "outputs": [],
      "source": [
        "# Seperate Features and Targets\n",
        "iris_features = iris_df[iris_df.columns[:4]].to_numpy()\n",
        "iris_labels = iris_df['Class'].to_numpy()"
      ]
    },
    {
      "cell_type": "markdown",
      "id": "ec69490d",
      "metadata": {
        "id": "ec69490d"
      },
      "source": [
        "# K-Means Algorithm"
      ]
    },
    {
      "cell_type": "code",
      "execution_count": 6,
      "id": "ad144682",
      "metadata": {
        "id": "ad144682"
      },
      "outputs": [],
      "source": [
        "def calc_distance(point1, point2, axis=None):\n",
        "    return np.sqrt((np.power(point1-point2, 2)).sum(axis=axis))"
      ]
    },
    {
      "cell_type": "code",
      "execution_count": 8,
      "id": "ab6532ad",
      "metadata": {
        "id": "ab6532ad"
      },
      "outputs": [],
      "source": [
        "class Kmeans():\n",
        "\n",
        "    def __init__(self, n_clusters, max_iter=100, tol=1e-2, random_state=None):\n",
        "        self.n_clusters = n_clusters\n",
        "        self.__max_iter = max_iter\n",
        "        self.__tol = tol\n",
        "        self.__random_state = random_state\n",
        "        if self.__random_state:\n",
        "            np.random.set_state(random_state)\n",
        "        self.__flag_fit = False\n",
        "        self.clusters = None\n",
        "        \n",
        "    def _init_clusters_(self):\n",
        "        indices = np.linspace(0, len(self._X)-1, len(self._X), dtype=int)\n",
        "        self._idx_centers = np.random.choice(indices, size=self.n_clusters)\n",
        "        self.cluster_centers = self._X[self._idx_centers]\n",
        "        self._init_data_to_clusters_()\n",
        "\n",
        "    def _update_clusters_(self):\n",
        "        if self.clusters is None:\n",
        "            print(\"Data not loaded into clusters. Call _init_clusters_\")\n",
        "            return\n",
        "        for i in range(self.n_clusters):\n",
        "            self.cluster_centers[i] = np.mean(self.clusters[i], axis=0)\n",
        "        self._init_data_to_clusters_()\n",
        "        \n",
        "        \n",
        "    def _init_data_to_clusters_(self):\n",
        "        clusters_list = [[] for i in range(self.n_clusters)]\n",
        "        for feature in self._X:\n",
        "            curr_cluster_index = -1\n",
        "            min_distance = np.inf\n",
        "            for idx, center in enumerate(self.cluster_centers):\n",
        "                curr_distance = calc_distance(feature, center)\n",
        "                if curr_distance < min_distance:\n",
        "                    min_distance = curr_distance\n",
        "                    curr_cluster_index = idx\n",
        "            if curr_cluster_index == -1:\n",
        "                print(f\"Cluster couldnt be identified for {feature}\")\n",
        "                return\n",
        "            clusters_list[curr_cluster_index].append(feature)\n",
        "        self.clusters = np.array(clusters_list, dtype=object)\n",
        "        return self\n",
        "    \n",
        "    def fit(self, X_data, y_data):\n",
        "        self._X = X_data\n",
        "        self._y = y_data\n",
        "        self._init_clusters_()\n",
        "        for i in range(self.__max_iter):\n",
        "            old_cluster_centers = self.cluster_centers.copy()\n",
        "            self._update_clusters_()\n",
        "            distance = calc_distance(old_cluster_centers, self.cluster_centers, axis=1)\n",
        "            if i == 0:\n",
        "                prev_max_distance = np.max(distance)\n",
        "                continue\n",
        "            else:\n",
        "                curr_max_distance = np.max(distance)\n",
        "                change_diff = abs(((curr_max_distance - prev_max_distance))/ \\\n",
        "                                  np.mean([prev_max_distance, curr_max_distance]))\n",
        "                prev_max_distance = curr_max_distance\n",
        "            if change_diff < self.__tol or np.isnan(change_diff):\n",
        "                break\n",
        "        self.__flag_fit = True\n",
        "        \n",
        "    def predict(self, X_data):\n",
        "        if not self.__flag_fit:\n",
        "            print(\"Model not fit with data yet! run model.fit() before running predict\")\n",
        "        self._get_class_labels_()\n",
        "        return np.apply_along_axis(self.__predict_data__, axis=1, arr=X_data)\n",
        "        \n",
        "    def __predict_data__(self, data):\n",
        "        return self.dict_labels.get(np.argmax(calc_distance(self.cluster_centers, data, axis=1)), 0)\n",
        "    \n",
        "    def get_accuracy(self, labels_predicted):\n",
        "        return 2*np.mean(np.equal(labels_predicted, iris_labels).astype(int))*100\n",
        "    \n",
        "    def _init_plot_(self, title):\n",
        "        plt.figure(figsize=(16,6))\n",
        "        plt.subplot(1,2,1)\n",
        "        plt.title(title)\n",
        "        return plt\n",
        "    \n",
        "    def _get_class_labels_(self):\n",
        "        list_features = ['Iris-setosa', 'Iris-versicolor', 'Iris-virginica']\n",
        "        dict_labels = dict(zip(list_features, range(3)))\n",
        "        cluster_labels = [[] for i in range(self.n_clusters)]\n",
        "        for feature, label in zip(self._X, self._y):\n",
        "            min_dist = np.inf\n",
        "            min_idx = -10\n",
        "            for i, center in enumerate(self.cluster_centers):\n",
        "                curr_dist = calc_distance(center, feature)\n",
        "                if curr_dist < min_dist:\n",
        "                    min_dist = curr_dist\n",
        "                    min_idx = i\n",
        "            cluster_labels[min_idx].append(dict_labels[label])        \n",
        "        estimated_labels = [np.argmax(np.bincount(i)) for i in cluster_labels]\n",
        "        self.dict_labels = dict(zip(estimated_labels[::-1], list_features))\n",
        "    \n",
        "    def plot_clusters(self, title=None):\n",
        "        if not self.__flag_fit:\n",
        "            print(\"Model not fit with data yet! run model.fit() before running plot\")\n",
        "        if title is None:\n",
        "            title = \"Cluster Plot\"\n",
        "        plt = self._init_plot(title)\n",
        "        for i, class_name in enumerate(classname_to_label.keys()):\n",
        "            plt.scatter(features[labels_count==i,2],features[labels_count==i,3],c=colors[i,None],alpha=1.0,s=20,lw=0,label=class_name)"
      ]
    },
    {
      "cell_type": "markdown",
      "id": "7566c6b1",
      "metadata": {
        "id": "7566c6b1"
      },
      "source": [
        "## Building the KMeans model for Iris Dataset"
      ]
    },
    {
      "cell_type": "markdown",
      "id": "d8fd6a95",
      "metadata": {
        "id": "d8fd6a95"
      },
      "source": [
        "### Choosing the number of clusters"
      ]
    },
    {
      "cell_type": "code",
      "execution_count": 10,
      "id": "14a34b34",
      "metadata": {
        "colab": {
          "base_uri": "https://localhost:8080/",
          "height": 295
        },
        "id": "14a34b34",
        "outputId": "f5e202d7-8473-4fd9-b9f1-463d95fe9559"
      },
      "outputs": [
        {
          "output_type": "display_data",
          "data": {
            "text/plain": [
              "<Figure size 432x288 with 1 Axes>"
            ],
            "image/png": "[encoded data removed]"
          },
          "metadata": {
            "needs_background": "light"
          }
        }
      ],
      "source": [
        "# Elbow Method\n",
        "np.random.seed(0)\n",
        "list_clusters = list(range(2, 9))\n",
        "distortion_from_centers = []\n",
        "\n",
        "for n_cluster in  list_clusters:\n",
        "    indices = np.linspace(0, len(iris_features)-1, len(iris_features), dtype=int)\n",
        "    idx_centers = np.random.choice(indices, size=n_cluster)\n",
        "    cluster_centers = iris_features[idx_centers]\n",
        "    distance_center = cdist(XA=iris_features, XB=cluster_centers)\n",
        "    minimum_dist_sum = np.sum(np.min(distance_center, axis=1))\n",
        "    distortion_from_centers.append(minimum_dist_sum/iris_features.shape[0])\n",
        "\n",
        "plt.plot(list_clusters, distortion_from_centers, 'bo--', lw=2)\n",
        "plt.title(\"Elbow method for determining number of clusters using Distortion\")\n",
        "plt.xlabel(\"Number of Clusters\")\n",
        "plt.ylabel(\"Distortion From Cluster Centers\")\n",
        "plt.show()"
      ]
    },
    {
      "cell_type": "markdown",
      "id": "fc5f9d8c",
      "metadata": {
        "id": "fc5f9d8c"
      },
      "source": [
        "### KMeans Model with 3 clusters"
      ]
    },
    {
      "cell_type": "code",
      "execution_count": 11,
      "id": "01fe3147",
      "metadata": {
        "id": "01fe3147"
      },
      "outputs": [],
      "source": [
        "np.random.seed(25)\n",
        "model = Kmeans(n_clusters=3, max_iter=10)"
      ]
    },
    {
      "cell_type": "code",
      "execution_count": 12,
      "id": "3be9b4cd",
      "metadata": {
        "id": "3be9b4cd"
      },
      "outputs": [],
      "source": [
        "model.fit(iris_features, iris_labels)"
      ]
    },
    {
      "cell_type": "code",
      "execution_count": 13,
      "id": "e322d2f0",
      "metadata": {
        "colab": {
          "base_uri": "https://localhost:8080/"
        },
        "id": "e322d2f0",
        "outputId": "dbbb40e0-f4a0-4390-fd60-e20f0b20cbf8"
      },
      "outputs": [
        {
          "output_type": "execute_result",
          "data": {
            "text/plain": [
              "array([[5.9016129 , 2.7483871 , 4.39354839, 1.43387097],\n",
              "       [5.006     , 3.418     , 1.464     , 0.244     ],\n",
              "       [6.85      , 3.07368421, 5.74210526, 2.07105263]])"
            ]
          },
          "metadata": {},
          "execution_count": 13
        }
      ],
      "source": [
        "model.cluster_centers"
      ]
    },
    {
      "cell_type": "code",
      "execution_count": 14,
      "id": "1c3a9497",
      "metadata": {
        "id": "1c3a9497"
      },
      "outputs": [],
      "source": [
        "model._get_class_labels_()"
      ]
    },
    {
      "cell_type": "code",
      "execution_count": 15,
      "id": "9512f258",
      "metadata": {
        "colab": {
          "base_uri": "https://localhost:8080/"
        },
        "id": "9512f258",
        "outputId": "01c16007-ce9f-4027-b3b5-4785513cb8e7"
      },
      "outputs": [
        {
          "output_type": "execute_result",
          "data": {
            "text/plain": [
              "{2: 'Iris-setosa', 0: 'Iris-versicolor', 1: 'Iris-virginica'}"
            ]
          },
          "metadata": {},
          "execution_count": 15
        }
      ],
      "source": [
        "model.dict_labels"
      ]
    },
    {
      "cell_type": "code",
      "execution_count": 17,
      "id": "abcb6d7a",
      "metadata": {
        "colab": {
          "base_uri": "https://localhost:8080/"
        },
        "id": "abcb6d7a",
        "outputId": "387b04eb-7a75-422d-a398-c8f12d99d332"
      },
      "outputs": [
        {
          "output_type": "stream",
          "name": "stdout",
          "text": [
            "Accuracy of classifications on testing data : 66.67%\n"
          ]
        }
      ],
      "source": [
        "# predictions on test data\n",
        "labels_predicted = model.predict(iris_features)\n",
        "# Accuracy of KMeans model on testing dataset\n",
        "accuracy = model.get_accuracy(labels_predicted)\n",
        "print(f\"Accuracy of classifications on testing data : {round(accuracy, 2)}%\")"
      ]
    }
  ],
  "metadata": {
    "kernelspec": {
      "display_name": "Python 3 (ipykernel)",
      "language": "python",
      "name": "python3"
    },
    "language_info": {
      "codemirror_mode": {
        "name": "ipython",
        "version": 3
      },
      "file_extension": ".py",
      "mimetype": "text/x-python",
      "name": "python",
      "nbconvert_exporter": "python",
      "pygments_lexer": "ipython3",
      "version": "3.8.13"
    },
    "colab": {
      "provenance": []
    }
  },
  "nbformat": 4,
  "nbformat_minor": 5
}